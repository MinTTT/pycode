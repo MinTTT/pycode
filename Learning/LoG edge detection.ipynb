{
 "cells": [
  {
   "cell_type": "code",
   "execution_count": null,
   "metadata": {
    "scrolled": true
   },
   "outputs": [],
   "source": [
    "import cv2 as cv\n",
    "import numpy as np\n",
    "from matplotlib import pyplot as plt\n",
    "\n",
    "image = cv.imread('FM15-M13GFP-2.png', 0)\n",
    "print(image)\n",
    "image_edge_detect = cv.GaussianBlur(image,(5,5), 0)\n",
    "laplacian = cv.Laplacian(image_edge_detect, cv.CV_64F, image_edge_detect, ksize=29)# ksize should be an odd \n",
    "normalize = cv.normalize(laplacian,laplacian,0,255,cv.NORM_MINMAX)\n",
    "print(normalize)\n",
    "threshold = cv.threshold(normalize, 0, 255, cv.THRESH_BINARY+cv.THRESH_OTSU)\n",
    "normalize_dilate = cv.dilate(normalize, None, iterations=1)\n",
    "normalize_erode = cv.erode(normalize_dilate, None, iterations=1)\n",
    "#edged, contours, hierarchy = cv.findContours(normalize_erode, cv.RETR_TREE, cv.CHAIN_APPROX_SIMPLE)\n",
    "\n",
    "plt.figure(figsize=(16,16))\n",
    "plt.subplot(221)\n",
    "plt.imshow(image, cmap = 'gray')\n",
    "plt.subplot(222)\n",
    "plt.imshow(image_edge_detect, cmap='gray')\n",
    "plt.subplot(223)\n",
    "plt.imshow(normalize_dilate, cmap='gray')\n",
    "plt.subplot(224)\n",
    "plt.imshow(normalize_erode, cmap='gray')\n",
    "plt.show()"
   ]
  },
  {
   "cell_type": "code",
   "execution_count": null,
   "metadata": {
    "collapsed": true
   },
   "outputs": [],
   "source": []
  }
 ],
 "metadata": {
  "kernelspec": {
   "display_name": "Python 3",
   "language": "python",
   "name": "python3"
  },
  "language_info": {
   "codemirror_mode": {
    "name": "ipython",
    "version": 3
   },
   "file_extension": ".py",
   "mimetype": "text/x-python",
   "name": "python",
   "nbconvert_exporter": "python",
   "pygments_lexer": "ipython3",
   "version": "3.6.5"
  }
 },
 "nbformat": 4,
 "nbformat_minor": 2
}
